{
 "cells": [
  {
   "cell_type": "markdown",
   "id": "c9ecfb68-1745-458e-95f1-4766c4841895",
   "metadata": {},
   "source": [
    "# ASSIGNMENT NUMBER 2"
   ]
  },
  {
   "cell_type": "markdown",
   "id": "2439a008-0bc1-4cac-ad12-05a3a6b42a5b",
   "metadata": {},
   "source": [
    "## QUESTION NUMBER 1"
   ]
  },
  {
   "cell_type": "code",
   "execution_count": 1,
   "id": "c175400b-16f7-4d8c-9f8a-820685608f12",
   "metadata": {},
   "outputs": [
    {
     "data": {
      "text/plain": [
       "'hello_python_world'"
      ]
     },
     "execution_count": 1,
     "metadata": {},
     "output_type": "execute_result"
    }
   ],
   "source": [
    "text =\"hello python world\"\n",
    "textNew= text.replace(\"hello python world\", \"hello_python_world\")\n",
    "textNew"
   ]
  },
  {
   "cell_type": "code",
   "execution_count": 9,
   "id": "b7bf63be-d676-4af3-9e9b-193f9e077b13",
   "metadata": {},
   "outputs": [
    {
     "data": {
      "text/plain": [
       "['hello', 'python', 'world']"
      ]
     },
     "execution_count": 9,
     "metadata": {},
     "output_type": "execute_result"
    }
   ],
   "source": [
    "text =\"hello python world\"\n",
    "word= text.split(\" \")\n",
    "word"
   ]
  },
  {
   "cell_type": "code",
   "execution_count": 19,
   "id": "948acfc9-e5e8-44ea-94b9-e4f05e31be87",
   "metadata": {},
   "outputs": [
    {
     "name": "stdout",
     "output_type": "stream",
     "text": [
      "hello-python-world\n"
     ]
    },
    {
     "data": {
      "text/plain": [
       "'hello-python-world'"
      ]
     },
     "execution_count": 19,
     "metadata": {},
     "output_type": "execute_result"
    }
   ],
   "source": [
    "result = '-'.join(word)\n",
    "print(result)\n",
    "res=str(result)\n",
    "res"
   ]
  },
  {
   "cell_type": "markdown",
   "id": "68dcc4ab-7bb3-4e13-acad-58d67c872131",
   "metadata": {},
   "source": [
    "## QUESTION NUMBER 2"
   ]
  },
  {
   "cell_type": "code",
   "execution_count": 13,
   "id": "876e3c33-88ed-44c4-b04f-92b68d157cf1",
   "metadata": {},
   "outputs": [
    {
     "name": "stdout",
     "output_type": "stream",
     "text": [
      "True\n"
     ]
    }
   ],
   "source": [
    "word = \"Javascript\"\n",
    "length = len(word)\n",
    "\n",
    "if length > 5:\n",
    "    print(True)\n",
    "else:\n",
    "    print(False)\n"
   ]
  },
  {
   "cell_type": "markdown",
   "id": "fef85e4b-b8ae-4468-8eb4-1d250a9ba244",
   "metadata": {},
   "source": [
    "## QUESTION NUMBER 3"
   ]
  },
  {
   "cell_type": "code",
   "execution_count": 23,
   "id": "ab0da96a-97c5-4017-82b4-824e523cc9e5",
   "metadata": {},
   "outputs": [
    {
     "name": "stdout",
     "output_type": "stream",
     "text": [
      "True\n"
     ]
    }
   ],
   "source": [
    "num=12\n",
    "if(num>10 and num%2==0):\n",
    "     print(True)\n",
    "else:\n",
    "    print(False)"
   ]
  },
  {
   "cell_type": "markdown",
   "id": "24afcaea-834a-4c30-89df-6281cff771f3",
   "metadata": {},
   "source": [
    "## QUESTION NUMBER 4"
   ]
  },
  {
   "cell_type": "code",
   "execution_count": 25,
   "id": "3fde3a2e-e89b-42d8-989b-328bd9357fcb",
   "metadata": {},
   "outputs": [
    {
     "name": "stdout",
     "output_type": "stream",
     "text": [
      "True\n"
     ]
    }
   ],
   "source": [
    "num=3\n",
    "if(num<5 or num>20):\n",
    "     print(True)\n",
    "else:\n",
    "    print(False)"
   ]
  },
  {
   "cell_type": "markdown",
   "id": "1ec2b03c-025e-448b-b461-08fd45a2cbbf",
   "metadata": {},
   "source": [
    "## QUESTION NUMBER 5"
   ]
  },
  {
   "cell_type": "code",
   "execution_count": 30,
   "id": "15dd702d-068d-469e-90a4-537ad9bf7c09",
   "metadata": {},
   "outputs": [
    {
     "name": "stdout",
     "output_type": "stream",
     "text": [
      "True\n"
     ]
    }
   ],
   "source": [
    "age=25\n",
    "has_id=True\n",
    "if(age>18 and age<65 and has_id):\n",
    "     print(True)\n",
    "else:\n",
    "    print(False)"
   ]
  },
  {
   "cell_type": "markdown",
   "id": "0f1818a5-a096-4813-ae50-2537f635f512",
   "metadata": {},
   "source": [
    "## QUESTION NUMBER 6"
   ]
  },
  {
   "cell_type": "code",
   "execution_count": 39,
   "id": "a8a24315-0187-4dcf-87e9-223d4e3ba639",
   "metadata": {},
   "outputs": [
    {
     "name": "stdout",
     "output_type": "stream",
     "text": [
      "Valid url\n"
     ]
    }
   ],
   "source": [
    "url = \"https://www.example.com\"\n",
    "if url.startswith(\"http://\") or url.startswith(\"https://\"):\n",
    "     print(\"Valid url\")\n",
    "else:\n",
    "    print(\"Invalid url\")"
   ]
  },
  {
   "cell_type": "markdown",
   "id": "fdf2351d-e12f-4be0-9364-66973f039cb8",
   "metadata": {},
   "source": [
    "## QUESTION NUMBER 7"
   ]
  },
  {
   "cell_type": "code",
   "execution_count": 42,
   "id": "34a4f9d3-4c2a-4ca4-ad5c-567a36cb9cb5",
   "metadata": {},
   "outputs": [
    {
     "name": "stdout",
     "output_type": "stream",
     "text": [
      "Discounted price: 90.0\n"
     ]
    }
   ],
   "source": [
    "price = 100\n",
    "price -= price * 0.10\n",
    "\n",
    "print(\"Discounted price:\", price)"
   ]
  },
  {
   "cell_type": "markdown",
   "id": "b659eeff-8030-4369-a1f8-76ab3ebc8511",
   "metadata": {},
   "source": [
    "## QUESTION NUMBER 8"
   ]
  },
  {
   "cell_type": "code",
   "execution_count": 46,
   "id": "c05b9a63-668a-4bff-9f1a-c974e89197e2",
   "metadata": {},
   "outputs": [
    {
     "name": "stdout",
     "output_type": "stream",
     "text": [
      "False\n"
     ]
    }
   ],
   "source": [
    "premium_customers = [\"alice@example.com\", \"charlie@example.com\", \"bob@example.com\"]\n",
    "basic_customers = [\"alex@example.com\", \"david@example.com\", \"chloe@example.com\"]\n",
    "customer = \"alice@example.com\"\n",
    "if (customer in premium_customers and customer in basic_customers):\n",
    "     print(True)\n",
    "else:\n",
    "    print(False)"
   ]
  },
  {
   "cell_type": "markdown",
   "id": "30ae095f-3fdc-4cbf-9f12-a759246f57ad",
   "metadata": {},
   "source": [
    "## QUESTION NUMBER 9"
   ]
  },
  {
   "cell_type": "code",
   "execution_count": 15,
   "id": "5cf30428-087b-42f7-a905-4d8dd95f1793",
   "metadata": {},
   "outputs": [
    {
     "name": "stdin",
     "output_type": "stream",
     "text": [
      "Enter The Password HASSAN123\n"
     ]
    },
    {
     "data": {
      "text/plain": [
       "True"
      ]
     },
     "execution_count": 15,
     "metadata": {},
     "output_type": "execute_result"
    }
   ],
   "source": [
    "str=input(\"Enter The Password\")\n",
    "str.isupper()"
   ]
  },
  {
   "cell_type": "code",
   "execution_count": 19,
   "id": "24ac3082-6cb9-4284-9dd1-266417eacc25",
   "metadata": {},
   "outputs": [
    {
     "name": "stdin",
     "output_type": "stream",
     "text": [
      "Enter The Password HASSAN123\n"
     ]
    },
    {
     "data": {
      "text/plain": [
       "True"
      ]
     },
     "execution_count": 19,
     "metadata": {},
     "output_type": "execute_result"
    }
   ],
   "source": [
    "str=input(\"Enter The Password\")\n",
    "str.isupper()\n"
   ]
  },
  {
   "cell_type": "code",
   "execution_count": 17,
   "id": "5f8430c3-bd73-424a-b26f-b47fcad8c871",
   "metadata": {},
   "outputs": [
    {
     "name": "stdin",
     "output_type": "stream",
     "text": [
      "Enter The Password hassan123\n"
     ]
    },
    {
     "data": {
      "text/plain": [
       "True"
      ]
     },
     "execution_count": 17,
     "metadata": {},
     "output_type": "execute_result"
    }
   ],
   "source": [
    "str=input(\"Enter The Password\")\n",
    "str.islower()\n"
   ]
  },
  {
   "cell_type": "code",
   "execution_count": 25,
   "id": "82ae8db3-b7d9-416b-bb84-bb670901ad66",
   "metadata": {},
   "outputs": [
    {
     "name": "stdin",
     "output_type": "stream",
     "text": [
      "Enter The Password h assan\n"
     ]
    },
    {
     "data": {
      "text/plain": [
       "False"
      ]
     },
     "execution_count": 25,
     "metadata": {},
     "output_type": "execute_result"
    }
   ],
   "source": [
    "str=input(\"Enter The Password\")\n",
    "str.isspace()"
   ]
  },
  {
   "cell_type": "code",
   "execution_count": 27,
   "id": "cd1b7953-42d4-4ddb-948b-6754cc8a62e0",
   "metadata": {},
   "outputs": [
    {
     "name": "stdin",
     "output_type": "stream",
     "text": [
      "Enter Password:  hassan@123\n"
     ]
    },
    {
     "name": "stdout",
     "output_type": "stream",
     "text": [
      "The @ character is present!\n"
     ]
    }
   ],
   "source": [
    "text = input(\"Enter Password: \")\n",
    "\n",
    "if \"@\" in text:\n",
    "    print(\"The @ character is present!\")\n",
    "else:\n",
    "    print(\"No @ character found.\")"
   ]
  },
  {
   "cell_type": "code",
   "execution_count": 29,
   "id": "c7fc0a10-ba5a-4b67-9061-17c33bcead13",
   "metadata": {},
   "outputs": [
    {
     "data": {
      "text/plain": [
       "['__add__',\n",
       " '__class__',\n",
       " '__contains__',\n",
       " '__delattr__',\n",
       " '__dir__',\n",
       " '__doc__',\n",
       " '__eq__',\n",
       " '__format__',\n",
       " '__ge__',\n",
       " '__getattribute__',\n",
       " '__getitem__',\n",
       " '__getnewargs__',\n",
       " '__getstate__',\n",
       " '__gt__',\n",
       " '__hash__',\n",
       " '__init__',\n",
       " '__init_subclass__',\n",
       " '__iter__',\n",
       " '__le__',\n",
       " '__len__',\n",
       " '__lt__',\n",
       " '__mod__',\n",
       " '__mul__',\n",
       " '__ne__',\n",
       " '__new__',\n",
       " '__reduce__',\n",
       " '__reduce_ex__',\n",
       " '__repr__',\n",
       " '__rmod__',\n",
       " '__rmul__',\n",
       " '__setattr__',\n",
       " '__sizeof__',\n",
       " '__str__',\n",
       " '__subclasshook__',\n",
       " 'capitalize',\n",
       " 'casefold',\n",
       " 'center',\n",
       " 'count',\n",
       " 'encode',\n",
       " 'endswith',\n",
       " 'expandtabs',\n",
       " 'find',\n",
       " 'format',\n",
       " 'format_map',\n",
       " 'index',\n",
       " 'isalnum',\n",
       " 'isalpha',\n",
       " 'isascii',\n",
       " 'isdecimal',\n",
       " 'isdigit',\n",
       " 'isidentifier',\n",
       " 'islower',\n",
       " 'isnumeric',\n",
       " 'isprintable',\n",
       " 'isspace',\n",
       " 'istitle',\n",
       " 'isupper',\n",
       " 'join',\n",
       " 'ljust',\n",
       " 'lower',\n",
       " 'lstrip',\n",
       " 'maketrans',\n",
       " 'partition',\n",
       " 'removeprefix',\n",
       " 'removesuffix',\n",
       " 'replace',\n",
       " 'rfind',\n",
       " 'rindex',\n",
       " 'rjust',\n",
       " 'rpartition',\n",
       " 'rsplit',\n",
       " 'rstrip',\n",
       " 'split',\n",
       " 'splitlines',\n",
       " 'startswith',\n",
       " 'strip',\n",
       " 'swapcase',\n",
       " 'title',\n",
       " 'translate',\n",
       " 'upper',\n",
       " 'zfill']"
      ]
     },
     "execution_count": 29,
     "metadata": {},
     "output_type": "execute_result"
    }
   ],
   "source": [
    "dir(\"\")\n"
   ]
  },
  {
   "cell_type": "markdown",
   "id": "d3adeac2-75fb-4a5e-820d-6883d7e4d480",
   "metadata": {},
   "source": [
    "## QUESTION NUMBER 10"
   ]
  },
  {
   "cell_type": "code",
   "execution_count": 31,
   "id": "13255249-a4ac-4908-9f97-0d10c2c349d2",
   "metadata": {},
   "outputs": [
    {
     "data": {
      "text/plain": [
       "3"
      ]
     },
     "execution_count": 31,
     "metadata": {},
     "output_type": "execute_result"
    }
   ],
   "source": [
    "str=\"SKU-12345-XYZ\"\n",
    "str.index(\"-\")"
   ]
  },
  {
   "cell_type": "code",
   "execution_count": 33,
   "id": "ee36c3a6-e17d-4fd7-a701-dd53701bacdc",
   "metadata": {},
   "outputs": [
    {
     "data": {
      "text/plain": [
       "2"
      ]
     },
     "execution_count": 33,
     "metadata": {},
     "output_type": "execute_result"
    }
   ],
   "source": [
    "str=\"SKU-12345-XYZ\"\n",
    "str.count(\"-\")"
   ]
  },
  {
   "cell_type": "code",
   "execution_count": 43,
   "id": "96010fb5-3b29-462f-9a16-30464ff73842",
   "metadata": {},
   "outputs": [
    {
     "data": {
      "text/plain": [
       "'12345'"
      ]
     },
     "execution_count": 43,
     "metadata": {},
     "output_type": "execute_result"
    }
   ],
   "source": [
    "str=\"SKU-12345-XYZ\"\n",
    "str1=str.removeprefix(\"SKU-\")\n",
    "str1.removesuffix(\"-XYZ\")"
   ]
  },
  {
   "cell_type": "code",
   "execution_count": null,
   "id": "92aa2e27-2ae5-4444-a74c-d1bd72dacbc3",
   "metadata": {},
   "outputs": [],
   "source": []
  }
 ],
 "metadata": {
  "kernelspec": {
   "display_name": "Python [conda env:base] *",
   "language": "python",
   "name": "conda-base-py"
  },
  "language_info": {
   "codemirror_mode": {
    "name": "ipython",
    "version": 3
   },
   "file_extension": ".py",
   "mimetype": "text/x-python",
   "name": "python",
   "nbconvert_exporter": "python",
   "pygments_lexer": "ipython3",
   "version": "3.12.7"
  }
 },
 "nbformat": 4,
 "nbformat_minor": 5
}
