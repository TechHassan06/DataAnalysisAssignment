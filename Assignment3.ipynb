{
 "cells": [
  {
   "cell_type": "markdown",
   "id": "e5bffadc-7f43-4925-812a-3ff5375333ad",
   "metadata": {},
   "source": [
    "# ASSIGNMENT 3"
   ]
  },
  {
   "cell_type": "markdown",
   "id": "45446fdf-d2e1-41ea-a5cc-e759b1b525fd",
   "metadata": {},
   "source": [
    "## QUESTION NUMBER 1"
   ]
  },
  {
   "cell_type": "code",
   "execution_count": null,
   "id": "d52044ec-1bc1-4b54-981d-04392c310cff",
   "metadata": {},
   "outputs": [],
   "source": [
    "\"\"Question 1: Age Group Classification \n",
    "\n",
    "Write a Python program that takes the age of a person as input and classifies them into one of the following age groups:\n",
    "\n",
    "\"Child\" if the age is between 0 and 12 (inclusive).\n",
    "\n",
    "\"Teenager\" if the age is between 13 and 19 (inclusive).\n",
    "\n",
    "\"Adult\" if the age is between 20 and 64 (inclusive).\n",
    "\n",
    "\"Senior\" if the age is 65 or older.\"\"\n"
   ]
  },
  {
   "cell_type": "code",
   "execution_count": 4,
   "id": "a22a4aaa-0efb-4c78-9a4f-549ed4f0de29",
   "metadata": {},
   "outputs": [
    {
     "name": "stdout",
     "output_type": "stream",
     "text": [
      "Enter Your age\n"
     ]
    },
    {
     "name": "stdin",
     "output_type": "stream",
     "text": [
      " 19\n"
     ]
    },
    {
     "name": "stdout",
     "output_type": "stream",
     "text": [
      "You are a Teenager\n"
     ]
    }
   ],
   "source": [
    "print(\"Enter Your age\")\n",
    "age=input()\n",
    "age=int(age)\n",
    "if age>0 and age<=12:\n",
    "    print(\"You are a child\")\n",
    "elif age>=13 and age<=19:\n",
    "    print(\"You are a Teenager\")\n",
    "elif age>=20 and age<=64:\n",
    "    print(\"You are an Adult\")\n",
    "elif age<65:\n",
    "    print(\"You are a Senior\")\n",
    "else:\n",
    "    print(\"Enter correct age\")"
   ]
  },
  {
   "cell_type": "markdown",
   "id": "69e6a78a-161a-4d98-83bc-a9f1d7a7c74a",
   "metadata": {},
   "source": [
    "## QUESTION NUMBER 2"
   ]
  },
  {
   "cell_type": "code",
   "execution_count": null,
   "id": "0ff11d68-fd4b-42b5-9c24-851f79850fef",
   "metadata": {},
   "outputs": [],
   "source": [
    "\"Write a Python program that asks the user to enter an email address. The program should check if the email contains the characters @ and \".\" (ignoring case). If either character is present, print \"Email format is valid.\" Otherwise, print \"Invalid email format.\"\""
   ]
  },
  {
   "cell_type": "code",
   "execution_count": 9,
   "id": "7d7fddf4-1f96-4412-9277-8ab1d83cdca8",
   "metadata": {},
   "outputs": [
    {
     "name": "stdout",
     "output_type": "stream",
     "text": [
      "Enter Your email address\n"
     ]
    },
    {
     "name": "stdin",
     "output_type": "stream",
     "text": [
      " muhammadhassan@gmail.com\n"
     ]
    },
    {
     "name": "stdout",
     "output_type": "stream",
     "text": [
      "Valid email Address\n"
     ]
    }
   ],
   "source": [
    "print(\"Enter Your email address\")\n",
    "email=input()\n",
    "if \"@\" in email:\n",
    "    print(\"Valid email Address\")\n",
    "elif \".\" in email:\n",
    "    print(\"Valid email Address\")\n",
    "else:\n",
    "    print(\"Invalid Email address\")\n",
    "    "
   ]
  },
  {
   "cell_type": "markdown",
   "id": "c4be1331-f17a-452c-ab24-79dfcf1218a8",
   "metadata": {},
   "source": [
    "## QUESTION NUMBER 3"
   ]
  },
  {
   "cell_type": "code",
   "execution_count": null,
   "id": "9072a851-c555-4556-a3a4-86029d9eb11b",
   "metadata": {},
   "outputs": [],
   "source": [
    "\"Write a Python program that takes three numbers as input and determines the largest among them. Also, check if any or all of the numbers are equal.\""
   ]
  },
  {
   "cell_type": "code",
   "execution_count": 11,
   "id": "d0814213-bb94-4cd7-b09c-c27046421969",
   "metadata": {},
   "outputs": [
    {
     "name": "stdout",
     "output_type": "stream",
     "text": [
      "Enter Number1\n"
     ]
    },
    {
     "name": "stdin",
     "output_type": "stream",
     "text": [
      " 45\n"
     ]
    },
    {
     "name": "stdout",
     "output_type": "stream",
     "text": [
      "Enter Number2\n"
     ]
    },
    {
     "name": "stdin",
     "output_type": "stream",
     "text": [
      " 78\n"
     ]
    },
    {
     "name": "stdout",
     "output_type": "stream",
     "text": [
      "Enter Number3\n"
     ]
    },
    {
     "name": "stdin",
     "output_type": "stream",
     "text": [
      " 89\n"
     ]
    },
    {
     "name": "stdout",
     "output_type": "stream",
     "text": [
      "Number3 is largest\n"
     ]
    }
   ],
   "source": [
    "print(\"Enter Number1\")\n",
    "num1=input()\n",
    "print(\"Enter Number2\")\n",
    "num2=input()\n",
    "print(\"Enter Number3\")\n",
    "num3=input()\n",
    "if num1>num2 and num1>num3:\n",
    "    print(\"Number1 is largest\")\n",
    "elif num2>num1 and num2>num3:\n",
    "    print(\"Number2 is largest\")   \n",
    "elif num3>num1 and num3>num2:\n",
    "    print(\"Number3 is largest\")   \n",
    "else:\n",
    "    print(\"Enter valid number\")"
   ]
  },
  {
   "cell_type": "markdown",
   "id": "2f76a1ce-97b0-4b1d-9164-e4b5edb5b861",
   "metadata": {},
   "source": [
    "## QUESTION NUMBER 4"
   ]
  },
  {
   "cell_type": "code",
   "execution_count": null,
   "id": "b8443ac2-4871-4f6a-9f16-f8658a858c2b",
   "metadata": {},
   "outputs": [],
   "source": [
    "\"\"Write a Python program that:\n",
    "\n",
    "Asks the user to enter a number.\n",
    "\n",
    "Checks whether the number is positive.\n",
    "\n",
    "If yes, further check if it's even or odd.\n",
    "\n",
    "Print \"The number is positive and even\" if divisible by 2.\n",
    "\n",
    "Print \"The number is positive and odd\" if not divisible by 2.\n",
    "\n",
    "If the number is zero or negative, print \"The number is not positive\".\"\"\n",
    "    \n",
    "\n"
   ]
  },
  {
   "cell_type": "code",
   "execution_count": 21,
   "id": "1f80c99b-deb5-4865-badf-ef8b8f7ec7fc",
   "metadata": {},
   "outputs": [
    {
     "name": "stdout",
     "output_type": "stream",
     "text": [
      "Enter a number\n"
     ]
    },
    {
     "name": "stdin",
     "output_type": "stream",
     "text": [
      " 4\n"
     ]
    },
    {
     "name": "stdout",
     "output_type": "stream",
     "text": [
      "The number is positive and even\n"
     ]
    }
   ],
   "source": [
    "print(\"Enter a number\")\n",
    "num=input()\n",
    "num=int(num)\n",
    "if num>0:\n",
    "    if(num%2==0):\n",
    "        print(\"The number is positive and even\")\n",
    "    else:\n",
    "        print(\"The number is positive and odd\")\n",
    "else:\n",
    "    print(\"The number is not positive\")"
   ]
  },
  {
   "cell_type": "markdown",
   "id": "396a00e2-c1ef-44a0-8305-01222b8815cb",
   "metadata": {},
   "source": [
    "## QUESTION NUMBER 5"
   ]
  },
  {
   "cell_type": "code",
   "execution_count": null,
   "id": "de82e73c-9651-412d-9823-1425ad8db116",
   "metadata": {},
   "outputs": [],
   "source": [
    "\"Ask the user for a username and password. Check if the username is correct. If it is, then check if the password is correct. If both are correct, print \"Access granted\".\n",
    "\n",
    "username = \"admin\"\n",
    "\n",
    "password = \"1234\"\"\n"
   ]
  },
  {
   "cell_type": "code",
   "execution_count": 31,
   "id": "aa7daa72-c796-4b75-9da8-1ff83fecb709",
   "metadata": {},
   "outputs": [
    {
     "name": "stdout",
     "output_type": "stream",
     "text": [
      "Enter Username\n"
     ]
    },
    {
     "name": "stdin",
     "output_type": "stream",
     "text": [
      " admin\n"
     ]
    },
    {
     "name": "stdout",
     "output_type": "stream",
     "text": [
      "Enter Password\n"
     ]
    },
    {
     "name": "stdin",
     "output_type": "stream",
     "text": [
      " 1234\n"
     ]
    },
    {
     "name": "stdout",
     "output_type": "stream",
     "text": [
      "Access granted\n"
     ]
    }
   ],
   "source": [
    "correct_username = \"admin\"\n",
    "correct_password = \"1234\"\n",
    "\n",
    "print(\"Enter Username\")\n",
    "username = input()\n",
    "print(\"Enter Password\")\n",
    "password = input()\n",
    "\n",
    "if username == correct_username:\n",
    "    if password == correct_password:\n",
    "        print(\"Access granted\")\n",
    "    else:\n",
    "        print(\"Wrong username or password\")\n",
    "else:\n",
    "    print(\"Wrong username or password\")\n"
   ]
  },
  {
   "cell_type": "markdown",
   "id": "3e628004-9050-47bd-ba54-74742e0f0c49",
   "metadata": {},
   "source": [
    "## QUESTION NUMBER 6"
   ]
  },
  {
   "cell_type": "code",
   "execution_count": null,
   "id": "61bebe10-2622-4a42-9d7a-5e87c4c12767",
   "metadata": {},
   "outputs": [],
   "source": [
    "\"Take an integer input from the user and check whether the entered value exists in the tuple my_tuple = (5, 10, 15, 20, 25). Print an appropriate message based on the result\""
   ]
  },
  {
   "cell_type": "code",
   "execution_count": 7,
   "id": "1afc407d-b3a7-46c9-aa08-aee05d218fe2",
   "metadata": {},
   "outputs": [
    {
     "name": "stdout",
     "output_type": "stream",
     "text": [
      "Enter an integer\n"
     ]
    },
    {
     "name": "stdin",
     "output_type": "stream",
     "text": [
      " 15\n"
     ]
    },
    {
     "name": "stdout",
     "output_type": "stream",
     "text": [
      "Entered number is present in tuple\n"
     ]
    }
   ],
   "source": [
    "my_tuple=(5, 10, 15, 20, 25)\n",
    "print(\"Enter an integer\")\n",
    "num=int(input())\n",
    "\n",
    "if num in my_tuple:\n",
    "    print(\"Entered number is present in tuple\")\n",
    "else:\n",
    "    print(\"Entered number is not present in tuple\") "
   ]
  },
  {
   "cell_type": "markdown",
   "id": "f00eeb72-6464-4e9f-af16-7b73494eea85",
   "metadata": {},
   "source": [
    "## QUESTION NUMBER 7"
   ]
  },
  {
   "cell_type": "code",
   "execution_count": null,
   "id": "82ea4ce1-d96d-4a4b-885c-c57d9011a8e9",
   "metadata": {},
   "outputs": [],
   "source": [
    "\"Create a program that takes the user's first name, last name, and age as input, packs them into a tuple, and prints the tuple.\""
   ]
  },
  {
   "cell_type": "code",
   "execution_count": 8,
   "id": "f0edc549-4457-4827-b207-abbc8067ad6d",
   "metadata": {},
   "outputs": [
    {
     "name": "stdout",
     "output_type": "stream",
     "text": [
      "Enter your first name\n"
     ]
    },
    {
     "name": "stdin",
     "output_type": "stream",
     "text": [
      " Muhammad\n"
     ]
    },
    {
     "name": "stdout",
     "output_type": "stream",
     "text": [
      "Enter your last name\n"
     ]
    },
    {
     "name": "stdin",
     "output_type": "stream",
     "text": [
      " Hassan\n"
     ]
    },
    {
     "name": "stdout",
     "output_type": "stream",
     "text": [
      "Enter your age\n"
     ]
    },
    {
     "name": "stdin",
     "output_type": "stream",
     "text": [
      " 18\n"
     ]
    },
    {
     "name": "stdout",
     "output_type": "stream",
     "text": [
      "('Muhammad', 'Hassan', 18)\n"
     ]
    }
   ],
   "source": [
    "print(\"Enter your first name\")\n",
    "firstName=input()\n",
    "print(\"Enter your last name\")\n",
    "lastName=input()\n",
    "print(\"Enter your age\")\n",
    "age=int(input())\n",
    "bio= firstName, lastName, age\n",
    "print(bio)"
   ]
  },
  {
   "cell_type": "markdown",
   "id": "dd3f5aab-5a6e-48a8-8d3f-e284e219f8ee",
   "metadata": {},
   "source": [
    "## QUESTION NUMBER 8"
   ]
  },
  {
   "cell_type": "code",
   "execution_count": null,
   "id": "bcf65329-351b-4364-9e2a-0aa895e471fa",
   "metadata": {},
   "outputs": [],
   "source": [
    "\" Given the tuple coordinates = (4, 5, 6), unpack the elements of the tuple into three variables x, y, and z. Then, calculate and print the sum of the variables.\""
   ]
  },
  {
   "cell_type": "code",
   "execution_count": 9,
   "id": "17f6da35-529a-4fa8-9b42-5ebf0d190cd9",
   "metadata": {},
   "outputs": [
    {
     "name": "stdout",
     "output_type": "stream",
     "text": [
      "4\n",
      "5\n",
      "6\n"
     ]
    }
   ],
   "source": [
    "coordinates = (4, 5, 6)\n",
    "x, y, z = coordinates\n",
    "print(x)\n",
    "print(y)\n",
    "print(z)"
   ]
  },
  {
   "cell_type": "markdown",
   "id": "b385761d-83c0-4637-ac06-9b482a84b515",
   "metadata": {},
   "source": [
    "## QUESTION NUMBER 9"
   ]
  },
  {
   "cell_type": "code",
   "execution_count": null,
   "id": "cb4b57d7-412f-47d4-abdd-a3d00a54f8ee",
   "metadata": {},
   "outputs": [],
   "source": [
    "\"Given the tuple my_tuple = (1, 2, 3, 4, 5), remove the element 3 from the tuple by first converting it to a list, and then print the resulting tuple.\""
   ]
  },
  {
   "cell_type": "code",
   "execution_count": 11,
   "id": "cfa50154-16b9-4d02-9744-71ee674460ca",
   "metadata": {},
   "outputs": [
    {
     "data": {
      "text/plain": [
       "[1, 2, 4, 5]"
      ]
     },
     "execution_count": 11,
     "metadata": {},
     "output_type": "execute_result"
    }
   ],
   "source": [
    "my_tuple = (1, 2, 3, 4, 5)\n",
    "num= list(my_tuple)\n",
    "num.remove(3)\n",
    "num"
   ]
  },
  {
   "cell_type": "markdown",
   "id": "a7e29e6a-c19e-48ee-b32b-f9ffa43fe5e0",
   "metadata": {},
   "source": [
    "## QUESTION NUMBER 10"
   ]
  },
  {
   "cell_type": "code",
   "execution_count": null,
   "id": "2fa2e307-8d1f-4aef-9f9d-97a87883cee7",
   "metadata": {},
   "outputs": [],
   "source": [
    "\"Given the tuple numbers = (10, 20, 5, 30, 15), find and print the maximum and minimum values in the tuple.\""
   ]
  },
  {
   "cell_type": "code",
   "execution_count": 16,
   "id": "6011e33e-22b2-4a75-a133-23566d808d2d",
   "metadata": {},
   "outputs": [
    {
     "name": "stdout",
     "output_type": "stream",
     "text": [
      "30\n",
      "5\n"
     ]
    }
   ],
   "source": [
    "numbers = (10, 20, 5, 30, 15)\n",
    "num= list(numbers)\n",
    "print(max(num))\n",
    "print(min(num))"
   ]
  },
  {
   "cell_type": "code",
   "execution_count": null,
   "id": "adc52028-02f9-4cef-ac10-9913a49b2904",
   "metadata": {},
   "outputs": [],
   "source": []
  }
 ],
 "metadata": {
  "kernelspec": {
   "display_name": "Python 3 (ipykernel)",
   "language": "python",
   "name": "python3"
  },
  "language_info": {
   "codemirror_mode": {
    "name": "ipython",
    "version": 3
   },
   "file_extension": ".py",
   "mimetype": "text/x-python",
   "name": "python",
   "nbconvert_exporter": "python",
   "pygments_lexer": "ipython3",
   "version": "3.12.7"
  }
 },
 "nbformat": 4,
 "nbformat_minor": 5
}
