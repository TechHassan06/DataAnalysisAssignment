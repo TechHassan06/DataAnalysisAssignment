{
 "cells": [
  {
   "cell_type": "markdown",
   "id": "e6d4cae5-681d-4662-ae82-4a84abf7fbad",
   "metadata": {},
   "source": [
    "# ASSIGNMENT 6"
   ]
  },
  {
   "cell_type": "markdown",
   "id": "0dc61f78-892a-4009-8f0d-f2f4bc23223b",
   "metadata": {},
   "source": [
    "## QUESTION NUMBER:1"
   ]
  },
  {
   "cell_type": "code",
   "execution_count": 2,
   "id": "c539211e-fa07-4bc3-908e-96e5e537c6e7",
   "metadata": {},
   "outputs": [
    {
     "name": "stdout",
     "output_type": "stream",
     "text": [
      "Hello, my name is M123 and I am 35 years old.\n",
      "Employee M123 is working in HR Department.\n",
      "Manager M123 is managing the team in the HR department.\n"
     ]
    }
   ],
   "source": [
    "\n",
    "class Person:\n",
    "    def __init__(self, name, age): \n",
    "        self.name = name\n",
    "        self.age = age\n",
    "    def introduce(self): \n",
    "        print(f\"Hello, my name is {self.name} and I am {self.age} years old.\")\n",
    "class Employee:\n",
    "    def __init__(self, name, dept): \n",
    "        self.name = name\n",
    "        self.dept = dept\n",
    "    def work(self): \n",
    "        print(f\"Employee {self.name} is working in {self.dept} Department.\")\n",
    "class Manager(Person, Employee):\n",
    "    def __init__(self, name, age, employee_id, dept):\n",
    "        Person.__init__(self, name, age)\n",
    "        Employee.__init__(self, employee_id, dept)\n",
    "\n",
    "    def manage(self):\n",
    "        print(f\"Manager {self.name} is managing the team in the {self.dept} department.\")\n",
    "m = Manager(\"John\", 35, \"M123\", \"HR\")\n",
    "\n",
    "m.introduce()\n",
    "m.work()\n",
    "m.manage()"
   ]
  },
  {
   "cell_type": "markdown",
   "id": "f145eab1-78d4-4ff9-aa84-6b60590b542d",
   "metadata": {},
   "source": [
    "## QUESTION NUMBER:2"
   ]
  },
  {
   "cell_type": "code",
   "execution_count": 3,
   "id": "2746901a-2320-462d-a7fe-a0d11ffc02a6",
   "metadata": {},
   "outputs": [
    {
     "name": "stdout",
     "output_type": "stream",
     "text": [
      "Hello!\n",
      "Hello, John!\n",
      "Good morning, John!\n"
     ]
    }
   ],
   "source": [
    "class Greeting:\n",
    "    def greet(self, *args):\n",
    "        if len(args) == 0:\n",
    "            print(\"Hello!\")\n",
    "        elif len(args) == 1:\n",
    "            print(f\"Hello, {args[0]}!\")\n",
    "        elif len(args) == 2:\n",
    "            print(f\"{args[1]}, {args[0]}!\")\n",
    "        else:\n",
    "            print(\"Invalid number of arguments.\")\n",
    "\n",
    "\n",
    "g = Greeting()\n",
    "\n",
    "\n",
    "g.greet()                     \n",
    "g.greet(\"John\")                 \n",
    "g.greet(\"John\", \"Good morning\")\n"
   ]
  },
  {
   "cell_type": "markdown",
   "id": "0227bd7d-cb20-4070-84fb-1cc9b8f7c1ec",
   "metadata": {},
   "source": [
    "## QUESTION NUMBER:3"
   ]
  },
  {
   "cell_type": "code",
   "execution_count": 4,
   "id": "c2c6c07a-ce7e-4c85-9627-253d62353107",
   "metadata": {},
   "outputs": [
    {
     "name": "stdout",
     "output_type": "stream",
     "text": [
      "PIN validated successfully.\n",
      "Invalid PIN.\n",
      "PIN changed successfully.\n",
      "New PIN must be a 4-digit number.\n",
      "Incorrect old PIN. PIN not changed.\n"
     ]
    }
   ],
   "source": [
    "class SecuritySystem:\n",
    "    def __init__(self, pin):\n",
    "        self.__pin = pin  \n",
    "\n",
    "    def validate_pin(self, pin):\n",
    "        if pin == self.__pin:\n",
    "            print(\"PIN validated successfully.\")\n",
    "            return True\n",
    "        else:\n",
    "            print(\"Invalid PIN.\")\n",
    "            return False\n",
    "\n",
    "    def change_pin(self, old_pin, new_pin):\n",
    "        if old_pin != self.__pin:\n",
    "            print(\"Incorrect old PIN. PIN not changed.\")\n",
    "            return\n",
    "\n",
    "        if not (isinstance(new_pin, int) and 1000 <= new_pin <= 9999):\n",
    "            print(\"New PIN must be a 4-digit number.\")\n",
    "            return\n",
    "\n",
    "        self.__pin = new_pin\n",
    "        print(\"PIN changed successfully.\")\n",
    "\n",
    "# Demonstration\n",
    "system = SecuritySystem(1234)\n",
    "\n",
    "# Validate correct and incorrect PIN\n",
    "system.validate_pin(1234)     # Correct\n",
    "system.validate_pin(1111)     # Incorrect\n",
    "\n",
    "# Change PIN with correct old PIN and valid new PIN\n",
    "system.change_pin(1234, 5678) # Should work\n",
    "\n",
    "# Try changing PIN with invalid new PIN (not 4-digit)\n",
    "system.change_pin(5678, 789)  # Invalid new PIN\n",
    "\n",
    "# Try changing PIN with incorrect old PIN\n",
    "system.change_pin(1234, 4321) # Incorrect old PIN\n"
   ]
  },
  {
   "cell_type": "markdown",
   "id": "f543498c-255f-49b2-989a-6eff8febc044",
   "metadata": {},
   "source": [
    "## QUESTION NUMBER:4"
   ]
  },
  {
   "cell_type": "code",
   "execution_count": 5,
   "id": "c6b3fd46-9bfa-455e-83bd-17f8ece348ed",
   "metadata": {},
   "outputs": [
    {
     "name": "stdout",
     "output_type": "stream",
     "text": [
      "Area of Circle: 78.5\n",
      "Area of Rectangle: 24\n"
     ]
    }
   ],
   "source": [
    "from abc import ABC, abstractmethod\n",
    "import math\n",
    "\n",
    "# Abstract class\n",
    "class Shape(ABC):\n",
    "    @abstractmethod\n",
    "    def area(self):\n",
    "        pass\n",
    "\n",
    "# Concrete class Circle\n",
    "class Circle(Shape):\n",
    "    def __init__(self, radius):\n",
    "        self.radius = radius\n",
    "\n",
    "    def area(self):\n",
    "        return round(math.pi * self.radius ** 2, 1)\n",
    "\n",
    "# Concrete class Rectangle\n",
    "class Rectangle(Shape):\n",
    "    def __init__(self, length, width):\n",
    "        self.length = length\n",
    "        self.width = width\n",
    "\n",
    "    def area(self):\n",
    "        return self.length * self.width\n",
    "\n",
    "# Create instances\n",
    "circle = Circle(5)\n",
    "rectangle = Rectangle(6, 4)\n",
    "\n",
    "# Print areas\n",
    "print(\"Area of Circle:\", circle.area())      # 78.5\n",
    "print(\"Area of Rectangle:\", rectangle.area())# 24\n"
   ]
  },
  {
   "cell_type": "markdown",
   "id": "34d4165b-3f81-42a2-9e53-0e55e83f9b17",
   "metadata": {},
   "source": [
    "## QUESTION NUMBER:5"
   ]
  },
  {
   "cell_type": "code",
   "execution_count": 6,
   "id": "3f8a7004-8ab1-4a9d-b32a-8ee27c9686af",
   "metadata": {},
   "outputs": [
    {
     "name": "stdout",
     "output_type": "stream",
     "text": [
      "Sending email\n",
      "Sending SMS\n"
     ]
    }
   ],
   "source": [
    "# Base class\n",
    "class Notification:\n",
    "    def send(self):\n",
    "        print(\"Sending notification\")\n",
    "\n",
    "# Subclass EmailNotification\n",
    "class EmailNotification(Notification):\n",
    "    def send(self):\n",
    "        print(\"Sending email\")\n",
    "\n",
    "# Subclass SMSNotification\n",
    "class SMSNotification(Notification):\n",
    "    def send(self):\n",
    "        print(\"Sending SMS\")\n",
    "\n",
    "# Demonstrate method overriding\n",
    "email = EmailNotification()\n",
    "sms = SMSNotification()\n",
    "\n",
    "email.send()  # Overridden method\n",
    "sms.send()    # Overridden method\n"
   ]
  },
  {
   "cell_type": "code",
   "execution_count": null,
   "id": "6c47ecd4-7bde-4569-a9a9-03b31e377edf",
   "metadata": {},
   "outputs": [],
   "source": []
  }
 ],
 "metadata": {
  "kernelspec": {
   "display_name": "Python 3 (ipykernel)",
   "language": "python",
   "name": "python3"
  },
  "language_info": {
   "codemirror_mode": {
    "name": "ipython",
    "version": 3
   },
   "file_extension": ".py",
   "mimetype": "text/x-python",
   "name": "python",
   "nbconvert_exporter": "python",
   "pygments_lexer": "ipython3",
   "version": "3.12.7"
  }
 },
 "nbformat": 4,
 "nbformat_minor": 5
}
