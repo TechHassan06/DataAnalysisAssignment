{
 "cells": [
  {
   "cell_type": "markdown",
   "id": "e682e75b-9072-4836-be9b-f0e512fa8786",
   "metadata": {},
   "source": [
    "# ASSIGNMENT 4"
   ]
  },
  {
   "cell_type": "markdown",
   "id": "2b07afa4-12e6-4502-9eb4-738654429fc7",
   "metadata": {},
   "source": [
    "## QUESTION 1"
   ]
  },
  {
   "cell_type": "code",
   "execution_count": null,
   "id": "9e548d50-b924-4619-aef1-8a90028f668c",
   "metadata": {},
   "outputs": [],
   "source": [
    "\"\"An e-commerce store stores information about its products in a nested dictionary. The outer dictionary uses product IDs as keys, and the inner dictionary stores product details like name, category, price, and stock quantity. products = { 101: {\"name\": \"Laptop\", \"category\": \"Electronics\", \"price\": 1200, \"stock\": 50}, 102: {\"name\": \"Shirt\", \"category\": \"Apparel\", \"price\": 25, \"stock\": 200}, 103: {\"name\": \"Coffee Maker\", \"category\": \"Home Appliances\", \"price\": 80, \"stock\": 30} }\n",
    "\n",
    "Increase the stock of the \"Shirt\" product (add 50 more units)\n",
    "\n",
    "Add a new product (e.g., \"Smartphone\")\"\""
   ]
  },
  {
   "cell_type": "code",
   "execution_count": 16,
   "id": "59e3dcc9-0b8c-40be-8f8c-f6e5afd83c0b",
   "metadata": {},
   "outputs": [],
   "source": [
    "my_dict={101: {\"name\": \"Laptop\", \"category\": \"Electronics\", \"price\": 1200, \"stock\": 50}, 102: {\"name\": \"Shirt\", \"category\": \"Apparel\", \"price\": 25, \"stock\": 200}, 103: {\"name\": \"Coffee Maker\", \"category\": \"Home Appliances\", \"price\": 80, \"stock\": 30}} "
   ]
  },
  {
   "cell_type": "code",
   "execution_count": 17,
   "id": "0257e20b-4586-4fea-92e5-9e7b1d9ecb36",
   "metadata": {},
   "outputs": [
    {
     "data": {
      "text/plain": [
       "250"
      ]
     },
     "execution_count": 17,
     "metadata": {},
     "output_type": "execute_result"
    }
   ],
   "source": [
    "my_dict[102][\"stock\"]+=50\n",
    "my_dict[102][\"stock\"]"
   ]
  },
  {
   "cell_type": "code",
   "execution_count": 18,
   "id": "cd9f4a69-6ac4-4d9d-8d68-043356921b52",
   "metadata": {},
   "outputs": [],
   "source": [
    "my_dict[104]={\"name\": \"Smartphone\", \"category\": \"Electronics\", \"price\": 1900, \"stock\": 50}"
   ]
  },
  {
   "cell_type": "code",
   "execution_count": 19,
   "id": "a7dcd82d-3d66-4edb-b742-fc02745c164c",
   "metadata": {},
   "outputs": [
    {
     "data": {
      "text/plain": [
       "{101: {'name': 'Laptop',\n",
       "  'category': 'Electronics',\n",
       "  'price': 1200,\n",
       "  'stock': 50},\n",
       " 102: {'name': 'Shirt', 'category': 'Apparel', 'price': 25, 'stock': 250},\n",
       " 103: {'name': 'Coffee Maker',\n",
       "  'category': 'Home Appliances',\n",
       "  'price': 80,\n",
       "  'stock': 30},\n",
       " 104: {'name': 'Smartphone',\n",
       "  'category': 'Electronics',\n",
       "  'price': 1900,\n",
       "  'stock': 50}}"
      ]
     },
     "execution_count": 19,
     "metadata": {},
     "output_type": "execute_result"
    }
   ],
   "source": [
    "my_dict"
   ]
  },
  {
   "cell_type": "markdown",
   "id": "62a965f4-2d2e-480f-817a-797b819f8b78",
   "metadata": {},
   "source": [
    "## QUESTION 2"
   ]
  },
  {
   "cell_type": "code",
   "execution_count": null,
   "id": "1f76f724-dc15-4bd9-a224-e5de0872cedc",
   "metadata": {},
   "outputs": [],
   "source": [
    "\"\"You are given a list that contains some duplicate items. Remove the duplicates\n",
    "\n",
    "shopping_list = [\"apple\", \"banana\", \"apple\", \"orange\", \"banana\", \"grape\"]\"\""
   ]
  },
  {
   "cell_type": "code",
   "execution_count": 21,
   "id": "e02650a6-57f9-46d7-972a-19ac924db281",
   "metadata": {},
   "outputs": [],
   "source": [
    "shopping_list = [\"apple\", \"banana\", \"apple\", \"orange\", \"banana\", \"grape\"]"
   ]
  },
  {
   "cell_type": "code",
   "execution_count": 22,
   "id": "66049e25-5224-4475-80e8-106c1a8ade3c",
   "metadata": {},
   "outputs": [
    {
     "data": {
      "text/plain": [
       "['apple', 'banana', 'apple', 'orange', 'banana', 'grape']"
      ]
     },
     "execution_count": 22,
     "metadata": {},
     "output_type": "execute_result"
    }
   ],
   "source": [
    "shopping_list"
   ]
  },
  {
   "cell_type": "code",
   "execution_count": 23,
   "id": "3940fc33-da57-4ebf-a7e0-c5d86284d930",
   "metadata": {},
   "outputs": [
    {
     "data": {
      "text/plain": [
       "['apple', 'banana', 'orange', 'grape']"
      ]
     },
     "execution_count": 23,
     "metadata": {},
     "output_type": "execute_result"
    }
   ],
   "source": [
    "new_dict=list (dict.fromkeys(shopping_list))\n",
    "new_dict"
   ]
  },
  {
   "cell_type": "markdown",
   "id": "70d98bad-1c07-4011-87ea-c36059b60a20",
   "metadata": {},
   "source": [
    "## QUESTION 3"
   ]
  },
  {
   "cell_type": "code",
   "execution_count": null,
   "id": "e7e8a7ff-18b3-41dc-af2b-e115d2f48aba",
   "metadata": {},
   "outputs": [],
   "source": [
    "\"\"You are managing a list of students enrolled in two different courses. You need to perform various set operations to understand the student enrollment. Task: Create two sets: one for students in \"Course A\" and one for students in \"Course B\". Find the students who are in \"Course A\" but not in \"Course B\" (difference). Find students who are only in one of the two courses (symmetric difference). \n",
    " \n",
    "course_a = {\"John\", \"Alice\", \"Bob\", \"David\"} \n",
    "\n",
    "course_b = {\"Alice\", \"Eve\", \"Charlie\", \"David\"}\n",
    "\n",
    "• Find students who are in Course A but not in Course B (difference)\n",
    "\n",
    "• Find students who are only in one of the two courses (symmetric difference)\"\""
   ]
  },
  {
   "cell_type": "code",
   "execution_count": 24,
   "id": "d8e9ee93-8007-460c-820a-cfcd4d059ad3",
   "metadata": {},
   "outputs": [],
   "source": [
    "course_a = {\"John\", \"Alice\", \"Bob\", \"David\"} \n",
    "\n",
    "course_b = {\"Alice\", \"Eve\", \"Charlie\", \"David\"}"
   ]
  },
  {
   "cell_type": "code",
   "execution_count": 25,
   "id": "57223a7a-8b1a-4952-8e9e-fafc292ab194",
   "metadata": {},
   "outputs": [
    {
     "data": {
      "text/plain": [
       "{'Bob', 'John'}"
      ]
     },
     "execution_count": 25,
     "metadata": {},
     "output_type": "execute_result"
    }
   ],
   "source": [
    "z=course_a.difference(course_b)\n",
    "z"
   ]
  },
  {
   "cell_type": "code",
   "execution_count": 26,
   "id": "66eb9a5b-ab9f-4df0-9699-ab7d7a1afe20",
   "metadata": {},
   "outputs": [
    {
     "data": {
      "text/plain": [
       "{'Bob', 'Charlie', 'Eve', 'John'}"
      ]
     },
     "execution_count": 26,
     "metadata": {},
     "output_type": "execute_result"
    }
   ],
   "source": [
    "p=course_a.symmetric_difference(course_b)\n",
    "p"
   ]
  },
  {
   "cell_type": "markdown",
   "id": "12e2335e-06a9-478b-8c70-e2affdf12bdd",
   "metadata": {},
   "source": [
    "## QUESTION 4"
   ]
  },
  {
   "cell_type": "code",
   "execution_count": null,
   "id": "446bdb87-df67-4e22-ae80-7483b54e710f",
   "metadata": {},
   "outputs": [],
   "source": [
    "\"\"Write a Python program that calculates the sum of all even numbers between 1 and 50 (inclusive) using a for loop.\n",
    "\n",
    "Hint\n",
    "\n",
    "- Initialize a variable to hold the sum (e.g., sum_of_evens).\n",
    "- Use a for loop to iterate through all numbers from 1 to 50.\n",
    "- Inside the loop, check if the number is even.\n",
    "- If the number is even, add it to sum_of_evens.\n",
    "- After the loop finishes, print the total sum of all even numbers between 1 and 50.\"\""
   ]
  },
  {
   "cell_type": "code",
   "execution_count": 27,
   "id": "e478281e-ee82-4164-b241-16ec6ee12868",
   "metadata": {},
   "outputs": [
    {
     "name": "stdout",
     "output_type": "stream",
     "text": [
      "The sum of even number from 1 to 50 is 650\n"
     ]
    }
   ],
   "source": [
    "sum_of_evens=0\n",
    "for i in range(1,51):\n",
    "    if i%2==0:\n",
    "        sum_of_evens+=i\n",
    "\n",
    "print(\"The sum of even number from 1 to 50 is\",sum_of_evens)"
   ]
  },
  {
   "cell_type": "markdown",
   "id": "b8f02b78-e333-4617-9cd7-355dac533cb3",
   "metadata": {},
   "source": [
    "## QUESTION 5"
   ]
  },
  {
   "cell_type": "code",
   "execution_count": null,
   "id": "d84e4680-dfec-446d-b04c-d7c4ac1c4f08",
   "metadata": {},
   "outputs": [],
   "source": [
    "\"\"Power of a Number Write a Python program that takes a number and prints the powers of the number (starting from 1 to 10) using a while loop. For example, if the user inputs 3, the output should be:\n",
    "\n",
    "3^1 = 3\n",
    "\n",
    "3^2 = 9\n",
    "\n",
    "3^3 = 27\n",
    "\n",
    "... up to 3^10.\"\""
   ]
  },
  {
   "cell_type": "code",
   "execution_count": 28,
   "id": "e53ce0bc-ba6d-4507-a54e-344795f00ecf",
   "metadata": {},
   "outputs": [
    {
     "name": "stdout",
     "output_type": "stream",
     "text": [
      "Enter the number for which you want to calculate\n"
     ]
    },
    {
     "name": "stdin",
     "output_type": "stream",
     "text": [
      " 9\n"
     ]
    },
    {
     "name": "stdout",
     "output_type": "stream",
     "text": [
      "9 x 1 = 9\n",
      "9 x 2 = 18\n",
      "9 x 3 = 27\n",
      "9 x 4 = 36\n",
      "9 x 5 = 45\n",
      "9 x 6 = 54\n",
      "9 x 7 = 63\n",
      "9 x 8 = 72\n",
      "9 x 9 = 81\n",
      "9 x 10 = 90\n"
     ]
    }
   ],
   "source": [
    "print(\"Enter the number for which you want to calculate\")\n",
    "n = int(input())\n",
    "i=1\n",
    "while(i<11):\n",
    "   print(f\"{n} x {i} = {n * i}\")\n",
    "   i+=1"
   ]
  },
  {
   "cell_type": "markdown",
   "id": "78a72b37-2799-4ce8-8214-d4d625d88a93",
   "metadata": {},
   "source": [
    "## QUESTION 6"
   ]
  },
  {
   "cell_type": "code",
   "execution_count": null,
   "id": "f28649b7-935e-4a5b-b769-9158719a3d36",
   "metadata": {},
   "outputs": [],
   "source": [
    "\"\"Write a Python program that takes an integer input from the user and counts down from that number to 0. The program should display the current number at each step until it reaches 0, at which point it should print a message indicating the countdown is finished\"\""
   ]
  },
  {
   "cell_type": "code",
   "execution_count": 29,
   "id": "cce3b2c2-c534-47da-90df-c103aba00762",
   "metadata": {},
   "outputs": [
    {
     "name": "stdout",
     "output_type": "stream",
     "text": [
      "Enter the number for which you want to calculate digits\n"
     ]
    },
    {
     "name": "stdin",
     "output_type": "stream",
     "text": [
      " 56432\n"
     ]
    },
    {
     "name": "stdout",
     "output_type": "stream",
     "text": [
      "The number of digits are 5\n"
     ]
    }
   ],
   "source": [
    "print(\"Enter the number for which you want to calculate digits\")\n",
    "n = int(input())\n",
    "count=0\n",
    "while(n>0):\n",
    "   n=n//10\n",
    "   count+=1\n",
    "\n",
    "\n",
    "\n",
    "\n",
    "print(\"The number of digits are\", count)"
   ]
  },
  {
   "cell_type": "markdown",
   "id": "a6bfb82b-b070-4b21-b79b-cba54b9fe674",
   "metadata": {},
   "source": [
    "## QUESTION 7"
   ]
  },
  {
   "cell_type": "code",
   "execution_count": null,
   "id": "b2417303-286d-49d1-84c4-3a46e7ec56ec",
   "metadata": {},
   "outputs": [],
   "source": [
    "\"\"Write a Python program that takes a number as input from the user and calculates its factorial using a for loop. The program should display the result to the user.\"\""
   ]
  },
  {
   "cell_type": "code",
   "execution_count": 30,
   "id": "ce455482-bf2c-4e47-9068-b35ca8e65ec6",
   "metadata": {},
   "outputs": [
    {
     "name": "stdin",
     "output_type": "stream",
     "text": [
      "Enter a number:  5\n"
     ]
    },
    {
     "name": "stdout",
     "output_type": "stream",
     "text": [
      "Factorial is 120\n"
     ]
    }
   ],
   "source": [
    "n = int(input(\"Enter a number: \"))\n",
    "fact = 1\n",
    "\n",
    "for i in range(1, n+1):\n",
    "    fact = fact * i\n",
    "\n",
    "print(\"Factorial is\", fact)\n"
   ]
  },
  {
   "cell_type": "markdown",
   "id": "2f1185a7-e767-436b-bbfd-e7be5ece8cfd",
   "metadata": {},
   "source": [
    "## QUESTION 8"
   ]
  },
  {
   "cell_type": "code",
   "execution_count": null,
   "id": "c240b695-c4d0-4973-b004-88fa442a3187",
   "metadata": {},
   "outputs": [],
   "source": [
    "\"\"Create an empty dictionary called person_info.\n",
    "\n",
    "Assign the following key-value pairs to the dictionary:\n",
    "\n",
    "\"name\": \"Alice\"\n",
    "\n",
    "\"age\": 25\n",
    "\n",
    "\"occupation\": \"Engineer\"\n",
    "\n",
    "After assigning the values, print the dictionary.\"\"\n"
   ]
  },
  {
   "cell_type": "code",
   "execution_count": 31,
   "id": "b19af801-1c11-433c-b7e0-7b3c668781e9",
   "metadata": {},
   "outputs": [
    {
     "data": {
      "text/plain": [
       "{'name': 'Alice', 'age': 25, 'occupation': 'Engineer'}"
      ]
     },
     "execution_count": 31,
     "metadata": {},
     "output_type": "execute_result"
    }
   ],
   "source": [
    "person_info={}\n",
    "person_info[\"name\"]=\"Alice\"\n",
    "person_info[\"age\"]=25\n",
    "person_info[\"occupation\"]=\"Engineer\"\n",
    "person_info"
   ]
  },
  {
   "cell_type": "markdown",
   "id": "b96ed075-9e91-4fc3-a301-9ab6499d6be1",
   "metadata": {},
   "source": [
    "## QUESTION 9"
   ]
  },
  {
   "cell_type": "code",
   "execution_count": null,
   "id": "9283f42c-a15b-44f2-afae-5a96072385e5",
   "metadata": {},
   "outputs": [],
   "source": [
    "\"\"Printing a right-angled triangle pattern (with NESTED while loop)\""
   ]
  },
  {
   "cell_type": "code",
   "execution_count": 6,
   "id": "49c41a2c-c72d-4375-8a3f-6c013f456679",
   "metadata": {},
   "outputs": [
    {
     "name": "stdout",
     "output_type": "stream",
     "text": [
      "*\n",
      "**\n",
      "***\n",
      "****\n",
      "*****\n"
     ]
    }
   ],
   "source": [
    "i = 1\n",
    "while i <= 5:\n",
    "    j = 1\n",
    "    while j <= i:\n",
    "        print(\"*\", end=\"\")  \n",
    "        j += 1\n",
    "    print()  \n",
    "    i += 1\n"
   ]
  },
  {
   "cell_type": "markdown",
   "id": "c75a6942-8323-40cf-9a8e-39d19e5ea5c6",
   "metadata": {},
   "source": [
    "## QUESTION 10"
   ]
  },
  {
   "cell_type": "code",
   "execution_count": null,
   "id": "279d5f88-d320-40d1-9e3c-99dc3cc1971c",
   "metadata": {},
   "outputs": [],
   "source": [
    "\"\"Write a Python program that does the following:\n",
    "\n",
    "Range: Loop through numbers from 1 to 20 (inclusive).\n",
    "\n",
    "Continue: If the number is divisible by 4, skip that iteration and move to the next number.\n",
    "\n",
    "Break: If the number is divisible by 7, stop the loop entirely.\n",
    "\n",
    "For all other numbers, print the number.\"\""
   ]
  },
  {
   "cell_type": "code",
   "execution_count": 10,
   "id": "fcf168be-aa93-40e6-852c-34faa852837a",
   "metadata": {},
   "outputs": [
    {
     "name": "stdout",
     "output_type": "stream",
     "text": [
      "1\n",
      "2\n",
      "3\n",
      "5\n",
      "6\n"
     ]
    }
   ],
   "source": [
    "for i in range(1, 21):\n",
    "    if i % 4 == 0:\n",
    "        continue\n",
    "    elif i % 7 == 0:\n",
    "        break\n",
    "    else:\n",
    "        print(i)\n",
    "\n"
   ]
  },
  {
   "cell_type": "code",
   "execution_count": null,
   "id": "6a35d119-1089-40a4-b5db-59aabfadf43a",
   "metadata": {},
   "outputs": [],
   "source": []
  }
 ],
 "metadata": {
  "kernelspec": {
   "display_name": "Python 3 (ipykernel)",
   "language": "python",
   "name": "python3"
  },
  "language_info": {
   "codemirror_mode": {
    "name": "ipython",
    "version": 3
   },
   "file_extension": ".py",
   "mimetype": "text/x-python",
   "name": "python",
   "nbconvert_exporter": "python",
   "pygments_lexer": "ipython3",
   "version": "3.12.7"
  }
 },
 "nbformat": 4,
 "nbformat_minor": 5
}
