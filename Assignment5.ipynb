{
 "cells": [
  {
   "cell_type": "markdown",
   "id": "59be2652-e015-4063-9287-bbac8bb33ad9",
   "metadata": {},
   "source": [
    "# ASSIGNMENT 5"
   ]
  },
  {
   "cell_type": "markdown",
   "id": "e0d30b50-1a04-40ab-87d4-681795a8e026",
   "metadata": {},
   "source": [
    "## QUESTION 1"
   ]
  },
  {
   "cell_type": "code",
   "execution_count": 9,
   "id": "858e7eb2-8bfb-48c1-b7ea-bd0dc6511c60",
   "metadata": {},
   "outputs": [],
   "source": [
    "def add(a,b):\n",
    "    print(a+b)"
   ]
  },
  {
   "cell_type": "code",
   "execution_count": 10,
   "id": "ac7f6977-d159-4e83-88ae-2d6798f8be60",
   "metadata": {},
   "outputs": [
    {
     "name": "stdout",
     "output_type": "stream",
     "text": [
      "7\n"
     ]
    }
   ],
   "source": [
    "add(1,6)"
   ]
  },
  {
   "cell_type": "markdown",
   "id": "b7b54465-33c2-43db-9362-64734d02552e",
   "metadata": {},
   "source": [
    "## QUESTION 2"
   ]
  },
  {
   "cell_type": "code",
   "execution_count": 13,
   "id": "75c6f89f-ad89-4763-ab38-460b63b6569a",
   "metadata": {},
   "outputs": [],
   "source": [
    "def currency_converter(n,er):\n",
    "    res=n*er\n",
    "    print(res)"
   ]
  },
  {
   "cell_type": "code",
   "execution_count": 14,
   "id": "2984454d-9476-47d0-ae98-68845d359bee",
   "metadata": {},
   "outputs": [
    {
     "name": "stdout",
     "output_type": "stream",
     "text": [
      "560\n"
     ]
    }
   ],
   "source": [
    "currency_converter(2,280)"
   ]
  },
  {
   "cell_type": "markdown",
   "id": "7e9aefd1-0a34-4525-8896-3e3f46a524ba",
   "metadata": {},
   "source": [
    "## QUESTION 3"
   ]
  },
  {
   "cell_type": "code",
   "execution_count": 18,
   "id": "30c36186-643b-41f3-8d14-ff8278f8fe40",
   "metadata": {},
   "outputs": [],
   "source": [
    "def display_student_info(*, name, age, grade, school):\n",
    "    print(\"Student Information:\")\n",
    "    print(f\"Name   : {name}\")\n",
    "    print(f\"Age    : {age}\")\n",
    "    print(f\"Grade  : {grade}\")\n",
    "    print(f\"School : {school}\")"
   ]
  },
  {
   "cell_type": "code",
   "execution_count": 19,
   "id": "e8fccf14-7c10-478b-9e6a-08224f37a51d",
   "metadata": {},
   "outputs": [
    {
     "name": "stdout",
     "output_type": "stream",
     "text": [
      "Student Information:\n",
      "Name   : Ali\n",
      "Age    : 15\n",
      "Grade  : 10th\n",
      "School : City High School\n"
     ]
    }
   ],
   "source": [
    "display_student_info(name=\"Hassan\", age=15, grade=\"10th\", school=\"City High School\")"
   ]
  },
  {
   "cell_type": "markdown",
   "id": "c237d90d-836e-4416-bb98-65259a4c6fa9",
   "metadata": {},
   "source": [
    "## QUESTION 4"
   ]
  },
  {
   "cell_type": "code",
   "execution_count": 20,
   "id": "848b0436-629a-43c7-b179-55e20ecbf9eb",
   "metadata": {},
   "outputs": [],
   "source": [
    "def calculate_price(price, quantity):\n",
    "    return price * quantity"
   ]
  },
  {
   "cell_type": "code",
   "execution_count": 21,
   "id": "39870a72-22e8-492c-905b-c4bf778d7b2c",
   "metadata": {},
   "outputs": [
    {
     "data": {
      "text/plain": [
       "1080"
      ]
     },
     "execution_count": 21,
     "metadata": {},
     "output_type": "execute_result"
    }
   ],
   "source": [
    "calculate_price(180,6)"
   ]
  },
  {
   "cell_type": "markdown",
   "id": "f428cf3d-5025-444f-af5e-9bfd15132ea8",
   "metadata": {},
   "source": [
    "## QUESTION 5"
   ]
  },
  {
   "cell_type": "code",
   "execution_count": 22,
   "id": "6055d2db-78ce-4596-b6aa-d07d0ef045b2",
   "metadata": {},
   "outputs": [],
   "source": [
    "def display_prices(product, **prices):\n",
    "    print(\"Product:\", product)\n",
    "    for store in prices:\n",
    "        print(f\"{store}: ${prices[store]}\")"
   ]
  },
  {
   "cell_type": "code",
   "execution_count": 23,
   "id": "49c6e064-8abc-42b4-830b-5091a0e98c36",
   "metadata": {},
   "outputs": [
    {
     "name": "stdout",
     "output_type": "stream",
     "text": [
      "Product: Laptop\n",
      "Amazon: $800\n",
      "eBay: $750\n",
      "Walmart: $780\n"
     ]
    }
   ],
   "source": [
    "display_prices(\"Laptop\", Amazon=800, eBay=750, Walmart=780)"
   ]
  },
  {
   "cell_type": "markdown",
   "id": "01cc831a-b1f4-4512-bde2-9f236f12fc9d",
   "metadata": {},
   "source": [
    "## QUESTION 6"
   ]
  },
  {
   "cell_type": "code",
   "execution_count": 25,
   "id": "22505a79-dbf5-455b-b88b-b72021bbe8c1",
   "metadata": {},
   "outputs": [],
   "source": [
    "def find_max(*args):\n",
    "    return max(args)"
   ]
  },
  {
   "cell_type": "code",
   "execution_count": 26,
   "id": "ce3b74f8-12e5-4b84-ac24-a005b2199ec5",
   "metadata": {},
   "outputs": [
    {
     "data": {
      "text/plain": [
       "9990"
      ]
     },
     "execution_count": 26,
     "metadata": {},
     "output_type": "execute_result"
    }
   ],
   "source": [
    "find_max(5,67,89,9990)"
   ]
  },
  {
   "cell_type": "markdown",
   "id": "517ab480-4819-41f2-bd9a-87a9e17254d2",
   "metadata": {},
   "source": [
    "## QUESTION 7"
   ]
  },
  {
   "cell_type": "code",
   "execution_count": 27,
   "id": "6a69a8fc-0244-4e59-82f8-1b46daeeab87",
   "metadata": {},
   "outputs": [],
   "source": [
    "def display_info(name, age, **details):\n",
    "    print(\"- Name:\", name)\n",
    "    print(\"- Age:\", age)\n",
    "    print(\"- Other Details:\")\n",
    "    for key in details:\n",
    "        print(f\"  - {key}: {details[key]}\")"
   ]
  },
  {
   "cell_type": "code",
   "execution_count": 28,
   "id": "44288882-ee79-4d78-a328-749454dc69c0",
   "metadata": {},
   "outputs": [
    {
     "name": "stdout",
     "output_type": "stream",
     "text": [
      "- Name: Hassan\n",
      "- Age: 30\n",
      "- Other Details:\n",
      "  - address: 123 Main St\n",
      "  - phone: 123-456-7890\n",
      "  - email: alice@example.com\n"
     ]
    }
   ],
   "source": [
    "display_info(\"Hassan\", 30, address=\"123 Main St\", phone=\"123-456-7890\", email=\"alice@example.com\")"
   ]
  },
  {
   "cell_type": "markdown",
   "id": "ee0256f7-a7a3-47f6-8458-a6d3cd9070c3",
   "metadata": {},
   "source": [
    "## QUESTION 8"
   ]
  },
  {
   "cell_type": "code",
   "execution_count": 29,
   "id": "ae28fa2c-b484-4759-84d0-19cc48945c1a",
   "metadata": {},
   "outputs": [
    {
     "name": "stdout",
     "output_type": "stream",
     "text": [
      "In-stock product names: ['Laptop', 'Headphones', 'Smartwatch', 'Keyboard']\n",
      "Discounted prices: [('Laptop', 1080.0), ('Headphones', 120.0), ('Smartwatch', 300), ('Keyboard', 85.0)]\n"
     ]
    }
   ],
   "source": [
    "products = [\n",
    "    {\"name\": \"Laptop\", \"price\": 1200, \"in_stock\": True, \"discount\": 0.1},\n",
    "    {\"name\": \"Smartphone\", \"price\": 800, \"in_stock\": False, \"discount\": 0.05},\n",
    "    {\"name\": \"Headphones\", \"price\": 150, \"in_stock\": True, \"discount\": 0.2},\n",
    "    {\"name\": \"Smartwatch\", \"price\": 300, \"in_stock\": True, \"discount\": 0},\n",
    "    {\"name\": \"Keyboard\", \"price\": 100, \"in_stock\": True, \"discount\": 0.15}\n",
    "]\n",
    "\n",
    "# In-stock product names\n",
    "names = [p[\"name\"] for p in products if p[\"in_stock\"]]\n",
    "\n",
    "# Final prices after discount\n",
    "prices = []\n",
    "for p in products:\n",
    "    if p[\"in_stock\"]:\n",
    "        price = p[\"price\"] * (1 - p[\"discount\"])\n",
    "        prices.append((p[\"name\"], price))\n",
    "\n",
    "# Show results\n",
    "print(\"In-stock product names:\", names)\n",
    "print(\"Discounted prices:\", prices)\n"
   ]
  },
  {
   "cell_type": "markdown",
   "id": "3c2c727b-a8c0-4bd2-bd96-6719b7098407",
   "metadata": {},
   "source": [
    "## QUESTION 9"
   ]
  },
  {
   "cell_type": "code",
   "execution_count": 30,
   "id": "8219250a-97e9-4da9-8041-085c21964347",
   "metadata": {},
   "outputs": [
    {
     "name": "stdout",
     "output_type": "stream",
     "text": [
      "[2, 4, 6, 8, 10, 12, 14, 16, 18, 20]\n"
     ]
    }
   ],
   "source": [
    "even_numbers = [x for x in range(1, 21) if x % 2 == 0]\n",
    "print(even_numbers)\n"
   ]
  },
  {
   "cell_type": "markdown",
   "id": "bba8a1b3-b5f5-4582-be60-15b484e741df",
   "metadata": {},
   "source": [
    "## QUESTION 10"
   ]
  },
  {
   "cell_type": "code",
   "execution_count": 31,
   "id": "8597aff0-d58a-46c7-a2bd-23513bb7038a",
   "metadata": {},
   "outputs": [
    {
     "name": "stdout",
     "output_type": "stream",
     "text": [
      "[3, 5, 6, 9, 10, 12, 15, 18, 20]\n"
     ]
    }
   ],
   "source": [
    "numbers = [1, 2, 3, 4, 5, 6, 7, 8, 9, 10, 11, 12, 13, 14, 15, 16, 17, 18, 19, 20]\n",
    "divisible_by_3_or_5 = [x for x in numbers if x % 3 == 0 or x % 5 == 0]\n",
    "print(divisible_by_3_or_5)"
   ]
  },
  {
   "cell_type": "code",
   "execution_count": null,
   "id": "737cc9b9-e1f1-4801-8893-319325437ed6",
   "metadata": {},
   "outputs": [],
   "source": []
  }
 ],
 "metadata": {
  "kernelspec": {
   "display_name": "Python 3 (ipykernel)",
   "language": "python",
   "name": "python3"
  },
  "language_info": {
   "codemirror_mode": {
    "name": "ipython",
    "version": 3
   },
   "file_extension": ".py",
   "mimetype": "text/x-python",
   "name": "python",
   "nbconvert_exporter": "python",
   "pygments_lexer": "ipython3",
   "version": "3.12.7"
  }
 },
 "nbformat": 4,
 "nbformat_minor": 5
}
